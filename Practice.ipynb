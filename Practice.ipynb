{
 "cells": [
  {
   "cell_type": "code",
   "execution_count": 8,
   "id": "6e680c2d-ecd6-466b-90fd-4f4da806bd6e",
   "metadata": {},
   "outputs": [
    {
     "name": "stdout",
     "output_type": "stream",
     "text": [
      "15\n"
     ]
    }
   ],
   "source": [
    "a=10\n",
    "b=5\n",
    "c=a+b\n",
    "print(c)"
   ]
  },
  {
   "cell_type": "code",
   "execution_count": 9,
   "id": "6769d5d7-40b9-4721-b472-19904a6334fa",
   "metadata": {},
   "outputs": [
    {
     "name": "stdout",
     "output_type": "stream",
     "text": [
      "15\n"
     ]
    }
   ],
   "source": [
    "a=2\n",
    "b=3\n",
    "c\n",
    "print(c)"
   ]
  },
  {
   "cell_type": "code",
   "execution_count": 10,
   "id": "0a605e16-8d86-411b-b5b5-7246056c0e3f",
   "metadata": {},
   "outputs": [
    {
     "ename": "SyntaxError",
     "evalue": "cannot assign to literal here. Maybe you meant '==' instead of '='? (827592745.py, line 1)",
     "output_type": "error",
     "traceback": [
      "\u001b[1;36m  Cell \u001b[1;32mIn[10], line 1\u001b[1;36m\u001b[0m\n\u001b[1;33m    23=10\u001b[0m\n\u001b[1;37m    ^\u001b[0m\n\u001b[1;31mSyntaxError\u001b[0m\u001b[1;31m:\u001b[0m cannot assign to literal here. Maybe you meant '==' instead of '='?\n"
     ]
    }
   ],
   "source": [
    "23=10\n",
    "24=25"
   ]
  },
  {
   "cell_type": "code",
   "execution_count": 11,
   "id": "a8e01e4c-672e-4d08-9431-77d40138fc5d",
   "metadata": {},
   "outputs": [
    {
     "ename": "SyntaxError",
     "evalue": "invalid syntax (2031248074.py, line 1)",
     "output_type": "error",
     "traceback": [
      "\u001b[1;36m  Cell \u001b[1;32mIn[11], line 1\u001b[1;36m\u001b[0m\n\u001b[1;33m    &=\"Queeni\"\u001b[0m\n\u001b[1;37m    ^\u001b[0m\n\u001b[1;31mSyntaxError\u001b[0m\u001b[1;31m:\u001b[0m invalid syntax\n"
     ]
    }
   ],
   "source": [
    "&=\"Queeni\"\n",
    "print(&)"
   ]
  },
  {
   "cell_type": "code",
   "execution_count": 12,
   "id": "b015eebb-3642-4214-9438-f49aea9d3b4a",
   "metadata": {},
   "outputs": [
    {
     "ename": "SyntaxError",
     "evalue": "cannot assign to literal here. Maybe you meant '==' instead of '='? (3304886737.py, line 1)",
     "output_type": "error",
     "traceback": [
      "\u001b[1;36m  Cell \u001b[1;32mIn[12], line 1\u001b[1;36m\u001b[0m\n\u001b[1;33m    \"My name is\"=\"Queeni\"\u001b[0m\n\u001b[1;37m    ^\u001b[0m\n\u001b[1;31mSyntaxError\u001b[0m\u001b[1;31m:\u001b[0m cannot assign to literal here. Maybe you meant '==' instead of '='?\n"
     ]
    }
   ],
   "source": [
    "\"My name is\"=\"Queeni\"\n",
    "print(\"My name is\")"
   ]
  },
  {
   "cell_type": "code",
   "execution_count": 13,
   "id": "55ae3a35-0956-4dfd-85a9-d208cc027834",
   "metadata": {},
   "outputs": [
    {
     "ename": "SyntaxError",
     "evalue": "cannot assign to literal here. Maybe you meant '==' instead of '='? (3461861358.py, line 1)",
     "output_type": "error",
     "traceback": [
      "\u001b[1;36m  Cell \u001b[1;32mIn[13], line 1\u001b[1;36m\u001b[0m\n\u001b[1;33m    7.5=My name is\u001b[0m\n\u001b[1;37m    ^\u001b[0m\n\u001b[1;31mSyntaxError\u001b[0m\u001b[1;31m:\u001b[0m cannot assign to literal here. Maybe you meant '==' instead of '='?\n"
     ]
    }
   ],
   "source": [
    "7.5=My name is\n",
    "7.5"
   ]
  },
  {
   "cell_type": "code",
   "execution_count": 14,
   "id": "4f399f0b-39bb-45f9-ba5c-ec4707a41882",
   "metadata": {},
   "outputs": [
    {
     "name": "stdout",
     "output_type": "stream",
     "text": [
      "Runisha\n"
     ]
    }
   ],
   "source": [
    "My_name_is=\"Runisha\"\n",
    "print(My_name_is)"
   ]
  },
  {
   "cell_type": "code",
   "execution_count": 6,
   "id": "82196ed6-680a-477a-9ebc-c161b497e2fe",
   "metadata": {},
   "outputs": [
    {
     "ename": "SyntaxError",
     "evalue": "cannot assign to expression here. Maybe you meant '==' instead of '='? (732244773.py, line 1)",
     "output_type": "error",
     "traceback": [
      "\u001b[1;36m  Cell \u001b[1;32mIn[6], line 1\u001b[1;36m\u001b[0m\n\u001b[1;33m    -name=\"Runisha\"\u001b[0m\n\u001b[1;37m    ^\u001b[0m\n\u001b[1;31mSyntaxError\u001b[0m\u001b[1;31m:\u001b[0m cannot assign to expression here. Maybe you meant '==' instead of '='?\n"
     ]
    }
   ],
   "source": [
    "-name=\"Runisha\"\n",
    "print(-name)"
   ]
  },
  {
   "cell_type": "markdown",
   "id": "32b59228-063b-4300-844a-03bc212c901f",
   "metadata": {},
   "source": [
    "W3 SCHOOL STRING PRACTICES"
   ]
  },
  {
   "cell_type": "code",
   "execution_count": 16,
   "id": "ab4c0ee1-3904-4aab-bded-7ebef4e38c1f",
   "metadata": {},
   "outputs": [
    {
     "name": "stdout",
     "output_type": "stream",
     "text": [
      "Runisha\n",
      "Runisha\n"
     ]
    }
   ],
   "source": [
    "print(\"Runisha\")\n",
    "print('Runisha')"
   ]
  },
  {
   "cell_type": "code",
   "execution_count": 17,
   "id": "74e236c4-c780-49a4-8146-0f26329bcbbb",
   "metadata": {},
   "outputs": [
    {
     "name": "stdout",
     "output_type": "stream",
     "text": [
      "I'm Engineering\n",
      "B.Tech-'Information Technology'\n",
      "B.Tech-\"InformationTechnology\"\n"
     ]
    }
   ],
   "source": [
    "print(\"I'm Engineering\")\n",
    "print(\"B.Tech-'Information Technology'\")\n",
    "print('B.Tech-\"InformationTechnology\"')"
   ]
  },
  {
   "cell_type": "code",
   "execution_count": 18,
   "id": "d09b7d63-e1ad-4b69-be5b-5c642abdf1fd",
   "metadata": {},
   "outputs": [
    {
     "name": "stdout",
     "output_type": "stream",
     "text": [
      "I'm Runisha Queeni,\n",
      "I'm Graduated student,\n",
      "from Cuddalore.\n"
     ]
    }
   ],
   "source": [
    "a=\"\"\"I'm Runisha Queeni,\n",
    "I'm Graduated student,\n",
    "from Cuddalore.\"\"\"\n",
    "print(a)"
   ]
  },
  {
   "cell_type": "code",
   "execution_count": 19,
   "id": "b8e106b5-fc0d-4b8a-b256-0fbaba2ed2fe",
   "metadata": {},
   "outputs": [
    {
     "data": {
      "text/plain": [
       "\"a=I'm Runisha Queeni,\\nI'm Graduated student,\\nfrom Cuddalore.\""
      ]
     },
     "execution_count": 19,
     "metadata": {},
     "output_type": "execute_result"
    }
   ],
   "source": [
    "'''a=I'm Runisha Queeni,\n",
    "I'm Graduated student,\n",
    "from Cuddalore.'''"
   ]
  },
  {
   "cell_type": "code",
   "execution_count": 20,
   "id": "1a47a124-92d8-47cf-a457-ff154ce66996",
   "metadata": {},
   "outputs": [
    {
     "name": "stdout",
     "output_type": "stream",
     "text": [
      "I'm Runisha Queeni,\n",
      "I'm Graduated student,\n",
      "from Cuddalore.\n"
     ]
    }
   ],
   "source": [
    "a='''I'm Runisha Queeni,\n",
    "I'm Graduated student,\n",
    "from Cuddalore.'''\n",
    "print(a)"
   ]
  },
  {
   "cell_type": "markdown",
   "id": "d9522647-3260-46a8-b1c3-037b0d390666",
   "metadata": {},
   "source": [
    "STRINGS AND ARRAYS"
   ]
  },
  {
   "cell_type": "code",
   "execution_count": null,
   "id": "e550f37d-bac5-44be-bd33-a339ed7d4577",
   "metadata": {},
   "outputs": [],
   "source": []
  },
  {
   "cell_type": "code",
   "execution_count": 21,
   "id": "94c3ef63-5183-43b4-9645-5745b5c8b0d5",
   "metadata": {},
   "outputs": [
    {
     "name": "stdout",
     "output_type": "stream",
     "text": [
      "Runisha \n"
     ]
    }
   ],
   "source": [
    "a=\"Runisha Queeni\"\n",
    "print(a[:8])"
   ]
  },
  {
   "cell_type": "markdown",
   "id": "d491bb84-d38e-4c79-9280-18fbc4ee2e53",
   "metadata": {},
   "source": [
    "LOOPING"
   ]
  },
  {
   "cell_type": "code",
   "execution_count": 12,
   "id": "48c62765-9182-4657-abf6-870f3cc4933a",
   "metadata": {},
   "outputs": [
    {
     "name": "stdout",
     "output_type": "stream",
     "text": [
      "R\n",
      "u\n",
      "n\n",
      "i\n",
      "s\n",
      "h\n",
      "a\n"
     ]
    }
   ],
   "source": [
    "for x in \"Runisha\":\n",
    "   print(x)"
   ]
  },
  {
   "cell_type": "markdown",
   "id": "0b93f054-b744-4bc4-86b3-8a95fa41c0fb",
   "metadata": {},
   "source": [
    "STRING LENGTH"
   ]
  },
  {
   "cell_type": "code",
   "execution_count": 14,
   "id": "aa66bf58-bc75-4def-947b-f5e3ec956772",
   "metadata": {},
   "outputs": [
    {
     "name": "stdout",
     "output_type": "stream",
     "text": [
      "17\n"
     ]
    }
   ],
   "source": [
    "a=\"Welcome to Python\"\n",
    "print(len(a))"
   ]
  },
  {
   "cell_type": "markdown",
   "id": "772629e9-f9ed-4b5e-866c-8974d32d6aaa",
   "metadata": {},
   "source": [
    "CHECH STRING"
   ]
  },
  {
   "cell_type": "code",
   "execution_count": 24,
   "id": "92fb26bb-dbe5-4d70-b1ea-cacee5b9e051",
   "metadata": {},
   "outputs": [
    {
     "name": "stdout",
     "output_type": "stream",
     "text": [
      "True\n"
     ]
    }
   ],
   "source": [
    "txt = \"The best things in life are free!\"\n",
    "print(\"free\" in txt)"
   ]
  },
  {
   "cell_type": "code",
   "execution_count": 25,
   "id": "fe1d3126-9ee5-47cf-9408-8964efdbf235",
   "metadata": {},
   "outputs": [
    {
     "name": "stdout",
     "output_type": "stream",
     "text": [
      "Yes, 'free' is present.\n"
     ]
    }
   ],
   "source": [
    "txt = \"The best things in life are free!\"\n",
    "if \"free\" in txt:\n",
    "  print(\"Yes, 'free' is present.\")"
   ]
  },
  {
   "cell_type": "code",
   "execution_count": 26,
   "id": "76126c0d-f66b-4a23-a701-595cfa141096",
   "metadata": {},
   "outputs": [
    {
     "name": "stdout",
     "output_type": "stream",
     "text": [
      "c\n"
     ]
    }
   ],
   "source": [
    "x = 'Welcome'\n",
    "print(x[3])"
   ]
  },
  {
   "cell_type": "code",
   "execution_count": 15,
   "id": "4551688b-28a1-40f7-9ed2-86c73de92276",
   "metadata": {},
   "outputs": [
    {
     "name": "stdout",
     "output_type": "stream",
     "text": [
      "11\n"
     ]
    }
   ],
   "source": [
    "x = \"Hello World\"\n",
    "print(len(x))"
   ]
  },
  {
   "cell_type": "code",
   "execution_count": 22,
   "id": "158ae30f-68da-4666-a82d-7470d464b67b",
   "metadata": {},
   "outputs": [
    {
     "name": "stdout",
     "output_type": "stream",
     "text": [
      "ello World\n"
     ]
    }
   ],
   "source": [
    "a = \"Hello World\"\n",
    "print(a[1:])"
   ]
  },
  {
   "cell_type": "code",
   "execution_count": 30,
   "id": "ee3b757c-ccf2-408c-a746-2adcc11ffa12",
   "metadata": {},
   "outputs": [
    {
     "name": "stdout",
     "output_type": "stream",
     "text": [
      "Yes, free is present in the text.\n"
     ]
    }
   ],
   "source": [
    "txt = 'The best things in life are free!'\n",
    "if 'free' in  txt:\n",
    "  print('Yes, free is present in the text.')"
   ]
  },
  {
   "cell_type": "markdown",
   "id": "27c1724e-a26d-4a2b-8a41-689b5a791e77",
   "metadata": {},
   "source": [
    "SLICING"
   ]
  },
  {
   "cell_type": "code",
   "execution_count": 40,
   "id": "7ccbb7a1-a4dc-4386-b806-26164aecc86e",
   "metadata": {},
   "outputs": [
    {
     "name": "stdout",
     "output_type": "stream",
     "text": [
      "llo, World\n"
     ]
    }
   ],
   "source": [
    "b = \"Hello, World!\"\n",
    "print(b[2:12])"
   ]
  },
  {
   "cell_type": "code",
   "execution_count": 46,
   "id": "198d5581-100a-451e-af0c-6a3dba7c86d1",
   "metadata": {},
   "outputs": [],
   "source": [
    "a = \"Hello World\"\n",
    "x = (a[2:5])"
   ]
  },
  {
   "cell_type": "markdown",
   "id": "1bc8c92e-32cb-4694-a339-88f18de7e923",
   "metadata": {},
   "source": [
    "UPPER CASE"
   ]
  },
  {
   "cell_type": "code",
   "execution_count": 48,
   "id": "cbf3c972-0051-4dd9-bd05-a39659aaaffa",
   "metadata": {},
   "outputs": [
    {
     "name": "stdout",
     "output_type": "stream",
     "text": [
      "HELLO, WORLD!\n"
     ]
    }
   ],
   "source": [
    "a = \"Hello, World!\"\n",
    "print(a.upper())\n"
   ]
  },
  {
   "cell_type": "markdown",
   "id": "65f84c3c-1244-41dd-a0a7-307fc0841f3c",
   "metadata": {},
   "source": [
    "REMOVE WHITESPACE"
   ]
  },
  {
   "cell_type": "code",
   "execution_count": 55,
   "id": "466d0f01-2474-4c14-8d36-ac935a8bc2ce",
   "metadata": {},
   "outputs": [
    {
     "name": "stdout",
     "output_type": "stream",
     "text": [
      "Hello,World !\n"
     ]
    }
   ],
   "source": [
    "a = \" Hello,World! \"\n",
    "print(a.strip()) # returns \"Hello, World!\""
   ]
  },
  {
   "cell_type": "code",
   "execution_count": 57,
   "id": "edef8990-5ee5-425a-9dcc-1d941f15a596",
   "metadata": {},
   "outputs": [
    {
     "name": "stdout",
     "output_type": "stream",
     "text": [
      "Rello, World!\n"
     ]
    }
   ],
   "source": [
    "a = \"Hello, World!\"\n",
    "print(a.replace(\"H\", \"R\"))"
   ]
  },
  {
   "cell_type": "code",
   "execution_count": 61,
   "id": "c42e46d7-4c0c-4dc7-b00b-d24dbcfcbf80",
   "metadata": {},
   "outputs": [
    {
     "name": "stdout",
     "output_type": "stream",
     "text": [
      "['He', '', 'o, Wor', 'd!']\n"
     ]
    }
   ],
   "source": [
    "a = \"Hello, World!\"\n",
    "print(a.split(\"l\")) # returns ['Hello', ' World!']"
   ]
  },
  {
   "cell_type": "code",
   "execution_count": 67,
   "id": "12a7d186-c234-4c68-8842-5aafa11a845e",
   "metadata": {},
   "outputs": [
    {
     "name": "stdout",
     "output_type": "stream",
     "text": [
      "Hello World\n"
     ]
    }
   ],
   "source": [
    "a=\" Hello,World! \"\n",
    "print(txt.strip())"
   ]
  },
  {
   "cell_type": "markdown",
   "id": "3a49e4fb-a068-488e-88df-06747a03fca2",
   "metadata": {},
   "source": [
    "CANCATENATION"
   ]
  },
  {
   "cell_type": "code",
   "execution_count": 68,
   "id": "70fecbee-9ba1-45ac-b3fa-70a113cc812e",
   "metadata": {},
   "outputs": [
    {
     "name": "stdout",
     "output_type": "stream",
     "text": [
      "HelloWorld\n"
     ]
    }
   ],
   "source": [
    "a = \"Hello\"\n",
    "b = \"World\"\n",
    "c = a + b\n",
    "print(c)"
   ]
  },
  {
   "cell_type": "code",
   "execution_count": 69,
   "id": "1326b7f6-fae7-422d-bd7f-d2df2e9d4000",
   "metadata": {},
   "outputs": [
    {
     "name": "stdout",
     "output_type": "stream",
     "text": [
      "Hello World\n"
     ]
    }
   ],
   "source": [
    "a = \"Hello\"\n",
    "b = \"World\"\n",
    "c = a + \" \" + b\n",
    "print(c)"
   ]
  },
  {
   "cell_type": "markdown",
   "id": "d40ee446-c493-4d40-a3f0-5e93e4a38581",
   "metadata": {},
   "source": [
    "STRING FORMATE"
   ]
  },
  {
   "cell_type": "code",
   "execution_count": 76,
   "id": "3cb8c69a-b438-4eb0-8d7e-3f1adebbb65a",
   "metadata": {},
   "outputs": [
    {
     "ename": "TypeError",
     "evalue": "can only concatenate str (not \"int\") to str",
     "output_type": "error",
     "traceback": [
      "\u001b[1;31m---------------------------------------------------------------------------\u001b[0m",
      "\u001b[1;31mTypeError\u001b[0m                                 Traceback (most recent call last)",
      "Cell \u001b[1;32mIn[76], line 2\u001b[0m\n\u001b[0;32m      1\u001b[0m age \u001b[38;5;241m=\u001b[39m \u001b[38;5;241m36\u001b[39m\n\u001b[1;32m----> 2\u001b[0m txt \u001b[38;5;241m=\u001b[39m \u001b[38;5;124m\"\u001b[39m\u001b[38;5;124mMy name is John, I am\u001b[39m\u001b[38;5;124m\"\u001b[39m  \u001b[38;5;241m+\u001b[39m age\n\u001b[0;32m      3\u001b[0m \u001b[38;5;28mprint\u001b[39m(txt)\n",
      "\u001b[1;31mTypeError\u001b[0m: can only concatenate str (not \"int\") to str"
     ]
    }
   ],
   "source": [
    "age = 36\n",
    "txt = \"My name is John, I am\"  + age\n",
    "print(txt)"
   ]
  },
  {
   "cell_type": "code",
   "execution_count": 72,
   "id": "00e10fa8-8460-4fe2-a013-4bf249a3132f",
   "metadata": {},
   "outputs": [
    {
     "name": "stdout",
     "output_type": "stream",
     "text": [
      "My name is John, I am 36\n"
     ]
    }
   ],
   "source": [
    "age = 36\n",
    "txt = f\"My name is John, I am {age}\"\n",
    "print(txt)"
   ]
  },
  {
   "cell_type": "code",
   "execution_count": 77,
   "id": "46d7d365-17f8-44b8-a33f-45ccebd76e96",
   "metadata": {},
   "outputs": [
    {
     "name": "stdout",
     "output_type": "stream",
     "text": [
      "The price is 59 dollars\n"
     ]
    }
   ],
   "source": [
    "price = 59\n",
    "txt = f\"The price is {price} dollars\"\n",
    "print(txt)"
   ]
  },
  {
   "cell_type": "code",
   "execution_count": 78,
   "id": "03566021-63e6-4720-a88c-93cfc016cfd3",
   "metadata": {},
   "outputs": [
    {
     "name": "stdout",
     "output_type": "stream",
     "text": [
      "The price is 59.00 dollars\n"
     ]
    }
   ],
   "source": [
    "price = 59\n",
    "txt = f\"The price is {price:.2f} dollars\"\n",
    "print(txt)"
   ]
  },
  {
   "cell_type": "code",
   "execution_count": 79,
   "id": "99561e08-ea05-4957-9b0b-f96392b6a737",
   "metadata": {},
   "outputs": [
    {
     "name": "stdout",
     "output_type": "stream",
     "text": [
      "The price is 1180 dollars\n"
     ]
    }
   ],
   "source": [
    "txt = f\"The price is {20 * 59} dollars\"\n",
    "print(txt)"
   ]
  },
  {
   "cell_type": "markdown",
   "id": "e6681a1d-c2de-4ac7-8dc3-bfc4d151caa2",
   "metadata": {},
   "source": [
    "ESCAPE CHARACTER"
   ]
  },
  {
   "cell_type": "code",
   "execution_count": 29,
   "id": "6aff868c-f85a-4041-b8e8-562beb8d3883",
   "metadata": {},
   "outputs": [
    {
     "ename": "SyntaxError",
     "evalue": "invalid syntax (4013392309.py, line 1)",
     "output_type": "error",
     "traceback": [
      "\u001b[1;36m  Cell \u001b[1;32mIn[29], line 1\u001b[1;36m\u001b[0m\n\u001b[1;33m    txt = \"We are the so-called \"Vikings\" from the north.\"\u001b[0m\n\u001b[1;37m                                 ^\u001b[0m\n\u001b[1;31mSyntaxError\u001b[0m\u001b[1;31m:\u001b[0m invalid syntax\n"
     ]
    }
   ],
   "source": [
    "txt = \"We are the so-called \"Vikings\" from the north.\"\n",
    "print(txt)"
   ]
  },
  {
   "cell_type": "code",
   "execution_count": 34,
   "id": "8faad8ce-eea5-4310-beca-bead31ece26d",
   "metadata": {},
   "outputs": [
    {
     "name": "stdout",
     "output_type": "stream",
     "text": [
      "We are the so-called \"Vikings\"\\ from the north.\n"
     ]
    },
    {
     "name": "stderr",
     "output_type": "stream",
     "text": [
      "<>:1: SyntaxWarning: invalid escape sequence '\\ '\n",
      "<>:1: SyntaxWarning: invalid escape sequence '\\ '\n",
      "C:\\Users\\Rani Motcha FSAG\\AppData\\Local\\Temp\\ipykernel_1872\\2085106430.py:1: SyntaxWarning: invalid escape sequence '\\ '\n",
      "  txt = 'We are the so-called \\\"Vikings\"\\ from the north.'\n"
     ]
    }
   ],
   "source": [
    "txt = 'We are the so-called \\\"Vikings\"\\ from the north.'\n",
    "print(txt)"
   ]
  },
  {
   "cell_type": "markdown",
   "id": "47f4edbc-9f58-4362-b4db-6de50bc02694",
   "metadata": {},
   "source": [
    "OPERATORS"
   ]
  },
  {
   "cell_type": "markdown",
   "id": "2f0e2a00-4c28-452a-be3a-b77cba27f8b7",
   "metadata": {},
   "source": [
    "1.ARITHMETIC OPERATORS"
   ]
  },
  {
   "cell_type": "raw",
   "id": "fa2b467b-d718-4ccd-94b8-8b05a422f8f6",
   "metadata": {},
   "source": []
  },
  {
   "cell_type": "code",
   "execution_count": 6,
   "id": "a3e42300-de76-4d04-b156-a9b5c95b4cf1",
   "metadata": {},
   "outputs": [
    {
     "name": "stdout",
     "output_type": "stream",
     "text": [
      "30\n",
      "10\n",
      "200\n",
      "2.0\n",
      "0\n",
      "10240000000000\n",
      "2\n"
     ]
    }
   ],
   "source": [
    "x=20\n",
    "y=10\n",
    "print(x+y) #addition\n",
    "print(x-y) #subtraction\n",
    "print(x*y) #multiplication\n",
    "print(x/y) #division\n",
    "print(x%y) #modulus(remainder value)\n",
    "print(x**y) #exponentation(20*20*20*20*20*20*20*20*20*20)\n",
    "print(x//y) #floor division"
   ]
  },
  {
   "cell_type": "markdown",
   "id": "66cb5700-43ca-4f9e-8905-4faaf0588b2f",
   "metadata": {},
   "source": [
    "2.ASSIGNMENT OPERATORS"
   ]
  },
  {
   "cell_type": "code",
   "execution_count": 12,
   "id": "340cdc2f-abad-4155-b372-527af2ab0c87",
   "metadata": {},
   "outputs": [
    {
     "name": "stdout",
     "output_type": "stream",
     "text": [
      "100\n"
     ]
    }
   ],
   "source": [
    "x*=10\n",
    "print(x)"
   ]
  },
  {
   "cell_type": "code",
   "execution_count": 14,
   "id": "35d6533e-11a2-4112-8ea6-9a12f40cc296",
   "metadata": {},
   "outputs": [
    {
     "name": "stdout",
     "output_type": "stream",
     "text": [
      "15\n"
     ]
    }
   ],
   "source": [
    "x=10\n",
    "x+=5\n",
    "print(x)"
   ]
  },
  {
   "cell_type": "code",
   "execution_count": 15,
   "id": "fa463a88-d777-486c-9b07-4c11e658bf6c",
   "metadata": {},
   "outputs": [
    {
     "name": "stdout",
     "output_type": "stream",
     "text": [
      "-10\n"
     ]
    }
   ],
   "source": [
    "x=10\n",
    "x-=20\n",
    "print(x)"
   ]
  },
  {
   "cell_type": "code",
   "execution_count": 17,
   "id": "c6dfbd85-6890-40ee-9677-8a9555d668f4",
   "metadata": {},
   "outputs": [
    {
     "name": "stdout",
     "output_type": "stream",
     "text": [
      "10\n"
     ]
    }
   ],
   "source": [
    "x=10\n",
    "x%=20\n",
    "print(x)"
   ]
  },
  {
   "cell_type": "code",
   "execution_count": 18,
   "id": "ffe14b87-ff4a-478a-b6be-78798efee09e",
   "metadata": {},
   "outputs": [
    {
     "name": "stdout",
     "output_type": "stream",
     "text": [
      "0.5\n"
     ]
    }
   ],
   "source": [
    "x=10\n",
    "x/=20\n",
    "print(x)"
   ]
  },
  {
   "cell_type": "code",
   "execution_count": 19,
   "id": "863976e0-332a-47e6-b3fa-05de9033963a",
   "metadata": {},
   "outputs": [
    {
     "name": "stdout",
     "output_type": "stream",
     "text": [
      "10240000000000\n"
     ]
    }
   ],
   "source": [
    "x=20\n",
    "x**=10\n",
    "print(x)"
   ]
  },
  {
   "cell_type": "code",
   "execution_count": 20,
   "id": "0c48afcd-c756-46c5-a403-c8bf10ae31d6",
   "metadata": {},
   "outputs": [
    {
     "name": "stdout",
     "output_type": "stream",
     "text": [
      "2\n"
     ]
    }
   ],
   "source": [
    "x=20\n",
    "x//=10\n",
    "print(x)"
   ]
  },
  {
   "cell_type": "code",
   "execution_count": 27,
   "id": "bfb09650-f748-47e2-bbee-a3fcaec96014",
   "metadata": {},
   "outputs": [
    {
     "name": "stdout",
     "output_type": "stream",
     "text": [
      "10\n"
     ]
    }
   ],
   "source": [
    "x=10\n",
    "x&=15\n",
    "print(x)"
   ]
  },
  {
   "cell_type": "code",
   "execution_count": 30,
   "id": "695b4324-ee67-479f-a691-9141b7ee3a02",
   "metadata": {},
   "outputs": [
    {
     "name": "stdout",
     "output_type": "stream",
     "text": [
      "11\n"
     ]
    }
   ],
   "source": [
    "x=10\n",
    "x|=9\n",
    "print(x)"
   ]
  },
  {
   "cell_type": "code",
   "execution_count": 32,
   "id": "da55da12-3245-412f-a299-d76dafb3aa4d",
   "metadata": {},
   "outputs": [
    {
     "name": "stdout",
     "output_type": "stream",
     "text": [
      "30\n"
     ]
    }
   ],
   "source": [
    "x=10\n",
    "x^=20\n",
    "print(x)"
   ]
  },
  {
   "cell_type": "code",
   "execution_count": 42,
   "id": "6b0bc3f9-0210-4e4a-887a-6ed057bea3c3",
   "metadata": {},
   "outputs": [
    {
     "name": "stdout",
     "output_type": "stream",
     "text": [
      "0\n"
     ]
    }
   ],
   "source": [
    "x=10\n",
    "x>>=5\n",
    "print(x)"
   ]
  },
  {
   "cell_type": "code",
   "execution_count": 43,
   "id": "61344c03-5907-49b7-8279-5de5358d0118",
   "metadata": {},
   "outputs": [
    {
     "name": "stdout",
     "output_type": "stream",
     "text": [
      "320\n"
     ]
    }
   ],
   "source": [
    "x=10\n",
    "x<<=5\n",
    "print(x)"
   ]
  },
  {
   "cell_type": "code",
   "execution_count": 44,
   "id": "351be077-77af-40b5-8a43-f886579fa79e",
   "metadata": {},
   "outputs": [
    {
     "name": "stdout",
     "output_type": "stream",
     "text": [
      "10\n"
     ]
    }
   ],
   "source": [
    "x=10\n",
    "print(x)"
   ]
  },
  {
   "cell_type": "markdown",
   "id": "ff20b2f4-9e3e-43e2-ac8f-1f3936b6fa35",
   "metadata": {},
   "source": [
    "3.COMPARISON OPERATOR"
   ]
  },
  {
   "cell_type": "code",
   "execution_count": 45,
   "id": "0fa9aeb2-8ddc-4a7e-9baa-1070efd51490",
   "metadata": {},
   "outputs": [
    {
     "name": "stdout",
     "output_type": "stream",
     "text": [
      "False\n"
     ]
    }
   ],
   "source": [
    "x=10\n",
    "y=9\n",
    "print(x==y)"
   ]
  },
  {
   "cell_type": "code",
   "execution_count": 47,
   "id": "0b1a8a51-9b35-40d3-bcfa-a7673725551c",
   "metadata": {},
   "outputs": [
    {
     "name": "stdout",
     "output_type": "stream",
     "text": [
      "True\n"
     ]
    }
   ],
   "source": [
    "x=10\n",
    "y=5\n",
    "print(x!=y)"
   ]
  },
  {
   "cell_type": "code",
   "execution_count": 48,
   "id": "ea04f44d-ccef-4d8c-b7be-0736133b807a",
   "metadata": {},
   "outputs": [
    {
     "name": "stdout",
     "output_type": "stream",
     "text": [
      "False\n"
     ]
    }
   ],
   "source": [
    "x=10\n",
    "y=20\n",
    "print(x>y)"
   ]
  },
  {
   "cell_type": "code",
   "execution_count": 49,
   "id": "360f8b21-f4e8-4aaa-9ed3-7949d716c414",
   "metadata": {},
   "outputs": [
    {
     "name": "stdout",
     "output_type": "stream",
     "text": [
      "False\n"
     ]
    }
   ],
   "source": [
    "x=10\n",
    "y=10\n",
    "print(x<y)"
   ]
  },
  {
   "cell_type": "code",
   "execution_count": 50,
   "id": "7a6e5146-7b1c-4ee0-ba60-4d650f6106da",
   "metadata": {},
   "outputs": [
    {
     "name": "stdout",
     "output_type": "stream",
     "text": [
      "False\n"
     ]
    }
   ],
   "source": [
    "x=10\n",
    "y=20\n",
    "print(x>=y)"
   ]
  },
  {
   "cell_type": "code",
   "execution_count": 51,
   "id": "36432af8-99d1-4c20-8fd9-aeaa014f0f34",
   "metadata": {},
   "outputs": [
    {
     "name": "stdout",
     "output_type": "stream",
     "text": [
      "True\n"
     ]
    }
   ],
   "source": [
    "x=10\n",
    "y=20\n",
    "print(x<=y)"
   ]
  },
  {
   "cell_type": "markdown",
   "id": "c7d712ae-22f7-471c-a912-06a966f83ce1",
   "metadata": {},
   "source": [
    "4.LOGICAL OPERATORS"
   ]
  },
  {
   "cell_type": "code",
   "execution_count": 55,
   "id": "419c83e2-4fba-41f5-8cd3-d1c57e7dc3ec",
   "metadata": {},
   "outputs": [
    {
     "name": "stdout",
     "output_type": "stream",
     "text": [
      "False\n"
     ]
    }
   ],
   "source": [
    "x=5\n",
    "print(x<4) and (x>20)"
   ]
  },
  {
   "cell_type": "code",
   "execution_count": 59,
   "id": "3d1f2c35-b5ed-4865-bddd-5ef49bc83fc1",
   "metadata": {},
   "outputs": [
    {
     "name": "stdout",
     "output_type": "stream",
     "text": [
      "False\n"
     ]
    },
    {
     "data": {
      "text/plain": [
       "True"
      ]
     },
     "execution_count": 59,
     "metadata": {},
     "output_type": "execute_result"
    }
   ],
   "source": [
    "x=10\n",
    "print(10>11) or (x<20)"
   ]
  },
  {
   "cell_type": "code",
   "execution_count": 62,
   "id": "23c4c423-2182-4e8c-b633-0ec661dbac11",
   "metadata": {},
   "outputs": [
    {
     "name": "stdout",
     "output_type": "stream",
     "text": [
      "True\n"
     ]
    }
   ],
   "source": [
    "x=10\n",
    "print(not(10>10 and 10<10))"
   ]
  },
  {
   "cell_type": "markdown",
   "id": "a359c925-c31d-4689-8eb2-1fb1089b0f26",
   "metadata": {},
   "source": [
    "5.IDENTIFY OPERATORS"
   ]
  },
  {
   "cell_type": "code",
   "execution_count": 65,
   "id": "b1eeda20-0369-4eca-9ecf-6f326ac67fa5",
   "metadata": {},
   "outputs": [
    {
     "name": "stdout",
     "output_type": "stream",
     "text": [
      "True\n",
      "False\n",
      "True\n"
     ]
    }
   ],
   "source": [
    "x = [\"apple\", \"banana\"]\n",
    "y = [\"apple\", \"banana\"]\n",
    "z = x\n",
    "print(x is z)\n",
    "print(x is y)\n",
    "print(x==y)"
   ]
  },
  {
   "cell_type": "code",
   "execution_count": 66,
   "id": "3dee4703-1f9d-4718-8550-a0a8bafdeb04",
   "metadata": {},
   "outputs": [
    {
     "name": "stdout",
     "output_type": "stream",
     "text": [
      "False\n",
      "True\n",
      "False\n"
     ]
    }
   ],
   "source": [
    "x = [\"apple\", \"banana\"]\n",
    "y = [\"apple\", \"banana\"]\n",
    "z = x\n",
    "print(x is not z)\n",
    "print(x is not y)\n",
    "print(x!=y)"
   ]
  },
  {
   "cell_type": "markdown",
   "id": "b24cd97f-9fad-43aa-a23d-8533142c238f",
   "metadata": {},
   "source": [
    "PYTHON BITWISE OPERATORS"
   ]
  },
  {
   "cell_type": "markdown",
   "id": "db4b6c4c-0070-4792-b1b5-cb7e475130a7",
   "metadata": {},
   "source": [
    "1.XOR ^"
   ]
  },
  {
   "cell_type": "code",
   "execution_count": 4,
   "id": "23081b12-f0fb-4a81-9328-b832000d1722",
   "metadata": {},
   "outputs": [
    {
     "name": "stdout",
     "output_type": "stream",
     "text": [
      "11\n"
     ]
    }
   ],
   "source": [
    "print(8^3)"
   ]
  },
  {
   "cell_type": "code",
   "execution_count": 5,
   "id": "43eec533-49d8-414e-8e4e-6e7a3a595741",
   "metadata": {},
   "outputs": [
    {
     "name": "stdout",
     "output_type": "stream",
     "text": [
      "5\n"
     ]
    }
   ],
   "source": [
    "a=6 #110\n",
    "b=3 #011\n",
    "print(6^3) #101(if only one is 1, otherwise (if both are 1 or both are 0) it is set to 0)"
   ]
  },
  {
   "cell_type": "code",
   "execution_count": 6,
   "id": "04c8a930-6091-4956-a1f2-81b282366d92",
   "metadata": {},
   "outputs": [
    {
     "name": "stdout",
     "output_type": "stream",
     "text": [
      "12\n"
     ]
    }
   ],
   "source": [
    "print(10^6)"
   ]
  },
  {
   "cell_type": "markdown",
   "id": "9198390c-d3af-4749-b35b-75d4bfc73eb3",
   "metadata": {},
   "source": [
    "2.NOT"
   ]
  },
  {
   "cell_type": "code",
   "execution_count": 8,
   "id": "6236f656-bdb0-49df-a0ec-87b8c885739b",
   "metadata": {},
   "outputs": [
    {
     "name": "stdout",
     "output_type": "stream",
     "text": [
      "-4\n"
     ]
    }
   ],
   "source": [
    "print(~3) #011( each bit 0 becomes 1 and 1 becomes 0)."
   ]
  },
  {
   "cell_type": "code",
   "execution_count": 15,
   "id": "5a6be06b-3d58-4202-8f56-1b8e1976c069",
   "metadata": {},
   "outputs": [
    {
     "name": "stdout",
     "output_type": "stream",
     "text": [
      "9\n"
     ]
    }
   ],
   "source": [
    "print(~-10)"
   ]
  },
  {
   "cell_type": "markdown",
   "id": "d6b7324b-cfce-44c7-8f54-55263b1f5c01",
   "metadata": {},
   "source": [
    "3.ZERO FILL LEFT SHIFT"
   ]
  },
  {
   "cell_type": "code",
   "execution_count": 18,
   "id": "82fcce7a-a11f-442e-a3ae-6bc11aa3b004",
   "metadata": {},
   "outputs": [
    {
     "name": "stdout",
     "output_type": "stream",
     "text": [
      "12\n"
     ]
    }
   ],
   "source": [
    "print(3<<2)"
   ]
  },
  {
   "cell_type": "markdown",
   "id": "2561801a-bdb9-41d4-a78d-7697f559e4da",
   "metadata": {},
   "source": [
    "4.SIGNED RIGHT SHIFT"
   ]
  },
  {
   "cell_type": "code",
   "execution_count": 19,
   "id": "5efa6e24-baa7-4895-b0ba-7aa966324cd3",
   "metadata": {},
   "outputs": [
    {
     "name": "stdout",
     "output_type": "stream",
     "text": [
      "2\n"
     ]
    }
   ],
   "source": [
    "print(8>>2)"
   ]
  },
  {
   "cell_type": "markdown",
   "id": "b8960b75-e125-4ff8-b8a1-afb63828c337",
   "metadata": {},
   "source": [
    "CONDITIONS AND IF STATEMENTS"
   ]
  },
  {
   "cell_type": "code",
   "execution_count": 12,
   "id": "9c176141-83fc-4b12-a751-a85e60db7c0e",
   "metadata": {},
   "outputs": [
    {
     "name": "stdout",
     "output_type": "stream",
     "text": [
      "a is greater than b\n"
     ]
    }
   ],
   "source": [
    "a=56\n",
    "b=56\n",
    "if b<a:\n",
    "    print(\"b is greater than a\")\n",
    "else: # we cannot apply condition.\n",
    "    print(\"a is greater than b\")"
   ]
  },
  {
   "cell_type": "code",
   "execution_count": 43,
   "id": "d421451f-005c-4c1e-9eff-bf8682daac7d",
   "metadata": {},
   "outputs": [
    {
     "name": "stdout",
     "output_type": "stream",
     "text": [
      "grade A\n"
     ]
    }
   ],
   "source": [
    "mark=90\n",
    "if mark>=90:\n",
    "    print(\"grade A\")\n",
    "elif mark>80:\n",
    "    print(\"grade B\")\n",
    "else:\n",
    "    print(\"grade C\")"
   ]
  },
  {
   "cell_type": "code",
   "execution_count": 15,
   "id": "0fe5f3ed-bca2-4f4d-8858-2aa316d9629c",
   "metadata": {},
   "outputs": [
    {
     "name": "stdout",
     "output_type": "stream",
     "text": [
      "grade B\n"
     ]
    }
   ],
   "source": [
    "mark=86\n",
    "if mark>90:\n",
    "    print(\"grade A\")\n",
    "elif mark>80:\n",
    "    print(\"grade B\")\n",
    "else:\n",
    "    print(\"grade C\")"
   ]
  },
  {
   "cell_type": "code",
   "execution_count": 46,
   "id": "af38cec5-6f2d-4e1a-8c96-c6e5073786ad",
   "metadata": {},
   "outputs": [
    {
     "name": "stdout",
     "output_type": "stream",
     "text": [
      "grade B\n"
     ]
    }
   ],
   "source": [
    "mark=86\n",
    "if mark>90:\n",
    "    print(\"grade A\")\n",
    "elif mark>80 and mark<90:\n",
    "    print(\"grade B\")\n",
    "else:\n",
    "    print(\"grade C\")"
   ]
  },
  {
   "cell_type": "code",
   "execution_count": 45,
   "id": "5f8cc8f4-d176-4b59-897a-be8261f219b3",
   "metadata": {},
   "outputs": [
    {
     "name": "stdout",
     "output_type": "stream",
     "text": [
      "grade C\n"
     ]
    }
   ],
   "source": [
    "mark=70\n",
    "if mark>90:\n",
    "    print(\"grade A\")\n",
    "elif mark>80 and mark<90:\n",
    "    print(\"grade B\")\n",
    "else:\n",
    "    print(\"grade C\")"
   ]
  },
  {
   "cell_type": "code",
   "execution_count": 70,
   "id": "50f86325-21a7-465f-93d3-602438c584e3",
   "metadata": {},
   "outputs": [
    {
     "name": "stdout",
     "output_type": "stream",
     "text": [
      "80\n"
     ]
    }
   ],
   "source": [
    "a=70\n",
    "b=80\n",
    "c=50\n",
    "if(a>b) and(a>c): #a check 'b' and 'c'.\n",
    "    print(a)\n",
    "elif(b>a) and (b>c): #b check 'a' and 'c'.\n",
    "    print(b)\n",
    "else: # otherwise 'C'.\n",
    "    print(c)"
   ]
  },
  {
   "cell_type": "code",
   "execution_count": 71,
   "id": "eca7caee-d010-4059-b23c-48028a0516e8",
   "metadata": {},
   "outputs": [
    {
     "name": "stdout",
     "output_type": "stream",
     "text": [
      "b 80\n"
     ]
    }
   ],
   "source": [
    "a=70\n",
    "b=80\n",
    "c=50\n",
    "if(a>b) and(a>c): #a check 'b' and 'c'.\n",
    "    print(\"a\",a)\n",
    "elif(b>a) and (b>c): #b check 'a' and 'c'.\n",
    "    print(\"b\",b)\n",
    "else: # otherwise 'C'.\n",
    "    print(\"c\",c)"
   ]
  },
  {
   "cell_type": "markdown",
   "id": "4b5a3b99-2866-4bad-81a0-397c98fa93ce",
   "metadata": {},
   "source": [
    "NESTED IF"
   ]
  },
  {
   "cell_type": "code",
   "execution_count": 8,
   "id": "52149ecc-dd8f-4d1b-aae5-5929699f4657",
   "metadata": {},
   "outputs": [
    {
     "name": "stdin",
     "output_type": "stream",
     "text": [
      "enter your mark 350\n",
      "enter your gender female\n"
     ]
    },
    {
     "name": "stdout",
     "output_type": "stream",
     "text": [
      "Mumbai,Bharathidasan university\n"
     ]
    }
   ],
   "source": [
    "mark=int(input(\"enter your mark\"))\n",
    "gender=input(\"enter your gender\")\n",
    "if(mark<300):\n",
    "    if gender==\"male\":\n",
    "        print(\"Chennai,Anna university\")\n",
    "elif(mark>300):\n",
    "    if gender==\"female\":\n",
    "        print(\"Mumbai,Bharathidasan university\")\n",
    "else:\n",
    "    print(\"invalid\")"
   ]
  },
  {
   "cell_type": "code",
   "execution_count": 1,
   "id": "c181e9de-c1a0-4667-abe7-7b30e7b4f38d",
   "metadata": {},
   "outputs": [
    {
     "name": "stdin",
     "output_type": "stream",
     "text": [
      "enter your gender female\n",
      "enter your exp 2\n"
     ]
    },
    {
     "name": "stdout",
     "output_type": "stream",
     "text": [
      "TCS\n"
     ]
    }
   ],
   "source": [
    "gender=input(\"enter your gender\")\n",
    "exp=int(input(\"enter your exp\"))\n",
    "if gender==\"male\":\n",
    "    if exp==1:\n",
    "        print(\"TCS\")\n",
    "    elif exp==2:\n",
    "        print(\"WIPRO\")\n",
    "    else:\n",
    "        print(\"invalid\")\n",
    "elif gender==\"female\":\n",
    "    if exp==2:\n",
    "        print(\"TCS\")\n",
    "    elif exp==3:\n",
    "        print(\"WIPRO\")\n",
    "    else:\n",
    "        print(\"invalid\")\n",
    "else:\n",
    "    print(\"invalid\")"
   ]
  },
  {
   "cell_type": "code",
   "execution_count": 11,
   "id": "d2b1d6bd-6fe2-44ac-91a3-7e27671801d0",
   "metadata": {},
   "outputs": [
    {
     "name": "stdin",
     "output_type": "stream",
     "text": [
      "enter your gender female\n",
      "enter your exp 2\n"
     ]
    },
    {
     "name": "stdout",
     "output_type": "stream",
     "text": [
      "CEO of Google\n"
     ]
    }
   ],
   "source": [
    "gender=input(\"enter your gender\")\n",
    "exp=int(input(\"enter your exp\"))\n",
    "if gender==\"male\":\n",
    "    if exp==1:\n",
    "        print(\"zoho\")\n",
    "    elif exp==2:\n",
    "        print(\"CEO of Google\")\n",
    "    else:\n",
    "        print(invalid)\n",
    "elif gender==\"female\":\n",
    "    if exp==1:\n",
    "        print(\"zoho\")\n",
    "    elif exp==2:\n",
    "        print(\"CEO of Google\")\n",
    "    else:\n",
    "        print(\"invalid\")\n",
    "else:\n",
    "    print(invalid)\n"
   ]
  },
  {
   "cell_type": "markdown",
   "id": "7a6cd0fb-8e32-4a63-80c0-b399ce51cc70",
   "metadata": {},
   "source": [
    "LIST"
   ]
  },
  {
   "cell_type": "code",
   "execution_count": 9,
   "id": "5d69129b-4e52-4d35-b448-18375f469a7b",
   "metadata": {},
   "outputs": [
    {
     "name": "stdout",
     "output_type": "stream",
     "text": [
      "['mango', 'grapes', 'banana']\n"
     ]
    },
    {
     "data": {
      "text/plain": [
       "['mango', 'kiwi', 'banana']"
      ]
     },
     "execution_count": 9,
     "metadata": {},
     "output_type": "execute_result"
    }
   ],
   "source": [
    "mylist=[\"mango\",\"grapes\",\"banana\"]\n",
    "print(mylist)\n",
    "mylist[1]=\"kiwi\"\n",
    "mylist"
   ]
  },
  {
   "cell_type": "code",
   "execution_count": 10,
   "id": "39cd0202-670e-4a09-97ba-5d51a2246d6f",
   "metadata": {},
   "outputs": [
    {
     "name": "stdout",
     "output_type": "stream",
     "text": [
      "['apple', 'orange', 'grapes', 'banana']\n"
     ]
    },
    {
     "data": {
      "text/plain": [
       "['apple', 'orange', 'grapes', '66']"
      ]
     },
     "execution_count": 10,
     "metadata": {},
     "output_type": "execute_result"
    }
   ],
   "source": [
    "mylist=[\"apple\",\"orange\",\"grapes\",\"banana\"]\n",
    "print(mylist)\n",
    "mylist[3]=\"66\"\n",
    "mylist"
   ]
  },
  {
   "cell_type": "code",
   "execution_count": 12,
   "id": "98bd9d4d-829d-47c0-8335-339845ce6606",
   "metadata": {},
   "outputs": [
    {
     "name": "stdin",
     "output_type": "stream",
     "text": [
      "enter your gender female\n",
      "enter your exp 2\n"
     ]
    },
    {
     "name": "stdout",
     "output_type": "stream",
     "text": [
      "Java\n"
     ]
    }
   ],
   "source": [
    "gender=input(\"enter your gender\")\n",
    "exp=int(input(\"enter your exp\"))\n",
    "if gender==\"male\":\n",
    "    if exp==1:\n",
    "        print(\"Python\")\n",
    "    elif exp==2:\n",
    "        print(\"Java\")\n",
    "    else:\n",
    "        print(invalid)\n",
    "elif gender==\"female\":\n",
    "    if exp==1:\n",
    "        print(\"Python\")\n",
    "    elif exp==2:\n",
    "        print(\"Java\")\n",
    "    else:\n",
    "        print(\"invalid\")\n",
    "else:\n",
    "    print(invalid)"
   ]
  },
  {
   "cell_type": "markdown",
   "id": "6ed0aecc-9c28-4d43-97c9-47f1e3015fd5",
   "metadata": {},
   "source": [
    "SET JOIN"
   ]
  },
  {
   "cell_type": "markdown",
   "id": "6bf63c13-a0a1-4edb-9c32-625c909b5b20",
   "metadata": {},
   "source": [
    "UNION"
   ]
  },
  {
   "cell_type": "code",
   "execution_count": 8,
   "id": "08ba8112-e183-4bcf-a6b9-39ee264a3aaf",
   "metadata": {},
   "outputs": [
    {
     "name": "stdout",
     "output_type": "stream",
     "text": [
      "{1, 2, 3, 6, 8, 'banana', 'orange', 'apple'}\n"
     ]
    }
   ],
   "source": [
    "set1 = {\"apple\", \"banana\", \"orange\",1}\n",
    "set2 = {1, 2, 3,6,\"apple\",8,\"banana\"}\n",
    "\n",
    "set3 = set1.union(set2)\n",
    "print(set3)"
   ]
  },
  {
   "cell_type": "code",
   "execution_count": 11,
   "id": "1b99bf04-fbcc-4809-a62b-2386d35571d6",
   "metadata": {},
   "outputs": [
    {
     "name": "stdout",
     "output_type": "stream",
     "text": [
      "{'parrot', 'rabbit', 'owl', 'peacock', 'dog', 'cat'}\n"
     ]
    }
   ],
   "source": [
    "a={\"dog\",\"cat\",\"rabbit\"}\n",
    "b={\"peacock\",\"parrot\",\"owl\"}\n",
    "c=a.union(b)\n",
    "print(c)"
   ]
  },
  {
   "cell_type": "code",
   "execution_count": 10,
   "id": "e820271b-945a-4193-8d1c-8452dce7c95a",
   "metadata": {},
   "outputs": [
    {
     "data": {
      "text/plain": [
       "{1, 2, 3, 'apple', 'banana', 'orange'}"
      ]
     },
     "execution_count": 10,
     "metadata": {},
     "output_type": "execute_result"
    }
   ],
   "source": [
    "set1 = {\"apple\", \"banana\", \"orange\"}\n",
    "set2 = {1, 2, 3}\n",
    "\n",
    "set3=set1|set2\n",
    "\n",
    "set3"
   ]
  },
  {
   "cell_type": "code",
   "execution_count": 13,
   "id": "4cc3a1b1-4914-4dc2-9549-419b83161a21",
   "metadata": {},
   "outputs": [
    {
     "name": "stdout",
     "output_type": "stream",
     "text": [
      "{'3', '7', '2', '4', '8', '5', '6', '11', '10', '9', '1', '12'}\n"
     ]
    }
   ],
   "source": [
    "a={\"1\",\"2\",\"3\",\"4\"}\n",
    "b={\"5\",\"6\",\"7\",\"8\"}\n",
    "c={\"9\",\"10\",\"11\",\"12\"}\n",
    "d=a|b|c\n",
    "print(d)"
   ]
  },
  {
   "cell_type": "code",
   "execution_count": 14,
   "id": "2bf39920-04dd-4864-9b35-2f1b14154858",
   "metadata": {},
   "outputs": [
    {
     "name": "stdout",
     "output_type": "stream",
     "text": [
      "{1, 'c', 2, 3, 'a', 'b'}\n"
     ]
    }
   ],
   "source": [
    "set1 = {\"a\", \"b\" , \"c\"}\n",
    "set2 = {1, 2, 3}\n",
    "\n",
    "set1.update(set2)\n",
    "print(set1)"
   ]
  },
  {
   "cell_type": "code",
   "execution_count": 17,
   "id": "876904dc-9b86-4c8b-8d0a-20f5bf51eb88",
   "metadata": {},
   "outputs": [
    {
     "name": "stdout",
     "output_type": "stream",
     "text": [
      "{'Ruthi', 'Queeni', 'Amma', 'Appa', 'Ruso'}\n"
     ]
    }
   ],
   "source": [
    "a={\"Queeni\",\"Ruthi\",\"Ruso\"}\n",
    "b={\"Amma\",\"Appa\"}\n",
    "a.update(b)\n",
    "print(a)"
   ]
  },
  {
   "cell_type": "markdown",
   "id": "ea448bff-f6d2-43e1-81b2-ac35723b5ea7",
   "metadata": {},
   "source": [
    "INTERSECTION"
   ]
  },
  {
   "cell_type": "code",
   "execution_count": 18,
   "id": "53bcb72e-7293-4bcb-80bf-afecbfe57905",
   "metadata": {},
   "outputs": [
    {
     "data": {
      "text/plain": [
       "{'apple'}"
      ]
     },
     "execution_count": 18,
     "metadata": {},
     "output_type": "execute_result"
    }
   ],
   "source": [
    "set1 = {\"apple\", \"banana\", \"cherry\"}\n",
    "set2 = {\"google\", \"microsoft\", \"apple\"}\n",
    "\n",
    "set3=set1.intersection(set2)\n",
    "set3"
   ]
  },
  {
   "cell_type": "code",
   "execution_count": 19,
   "id": "5db467a2-95a3-4d39-9dfa-aec81caa2e29",
   "metadata": {},
   "outputs": [
    {
     "name": "stdout",
     "output_type": "stream",
     "text": [
      "{3, 4}\n",
      "{1, 2, 3, 4}\n"
     ]
    }
   ],
   "source": [
    "set1 = {1, 2, 3, 4}\n",
    "set2 = {3, 4, 5, 6}\n",
    "result = set1.intersection(set2)\n",
    "print(result)  # Output: {3, 4}\n",
    "print(set1)    # Output: {1, 2, 3, 4} (unchanged)"
   ]
  },
  {
   "cell_type": "code",
   "execution_count": 20,
   "id": "ba283e25-2c1c-4085-a781-fa65264ff7d5",
   "metadata": {},
   "outputs": [
    {
     "name": "stdout",
     "output_type": "stream",
     "text": [
      "{'apple'}\n"
     ]
    }
   ],
   "source": [
    "set1 = {\"apple\", \"banana\", \"cherry\"}\n",
    "set2 = {\"google\", \"microsoft\", \"apple\"}\n",
    "\n",
    "set3 = set1 & set2  # & used instead of intersection.\n",
    "print(set3)"
   ]
  },
  {
   "cell_type": "code",
   "execution_count": 25,
   "id": "37229d09-0c65-4025-a595-562d1645186c",
   "metadata": {},
   "outputs": [
    {
     "name": "stdout",
     "output_type": "stream",
     "text": [
      "{'apple', 'microsoft'}\n"
     ]
    }
   ],
   "source": [
    "set1 = {\"apple\", \"banana\", \"cherry\",\"microsoft\"}\n",
    "set2 = {\"google\", \"microsoft\", \"apple\"}\n",
    "set1.intersection_update(set2)\n",
    "print(set1)"
   ]
  },
  {
   "cell_type": "code",
   "execution_count": 26,
   "id": "a85508b6-a070-4317-b320-13ef2c17b0fb",
   "metadata": {},
   "outputs": [
    {
     "name": "stdout",
     "output_type": "stream",
     "text": [
      "{'cherry', 'banana'}\n"
     ]
    }
   ],
   "source": [
    "set1 = {\"apple\", \"banana\", \"cherry\"}\n",
    "set2 = {\"google\", \"microsoft\", \"apple\"}\n",
    "\n",
    "set3 = set1.difference(set2)\n",
    "\n",
    "print(set3)"
   ]
  },
  {
   "cell_type": "markdown",
   "id": "3e0a7d69-15b5-41d8-b8c4-5e214b9b0081",
   "metadata": {},
   "source": [
    "SYMMETRIC DIFFERENCE"
   ]
  },
  {
   "cell_type": "code",
   "execution_count": 31,
   "id": "f3b33041-3827-4e2a-8b17-858ac10905f1",
   "metadata": {},
   "outputs": [
    {
     "name": "stdout",
     "output_type": "stream",
     "text": [
      "{'google', 'banana', 'microsoft', 'cherry'}\n"
     ]
    }
   ],
   "source": [
    "set1 = {\"apple\", \"banana\", \"cherry\"}\n",
    "set2 = {\"google\", \"microsoft\", \"apple\"}\n",
    "\n",
    "set3 = set1.symmetric_difference(set2)\n",
    "\n",
    "print(set3)"
   ]
  },
  {
   "cell_type": "code",
   "execution_count": 32,
   "id": "05c56f33-7664-45aa-9119-afde29065ab3",
   "metadata": {},
   "outputs": [
    {
     "name": "stdout",
     "output_type": "stream",
     "text": [
      "{'google', 'banana', 'microsoft', 'cherry'}\n"
     ]
    }
   ],
   "source": [
    "set1 = {\"apple\", \"banana\", \"cherry\"}\n",
    "set2 = {\"google\", \"microsoft\", \"apple\"}\n",
    "\n",
    "set3 = set1 ^ set2\n",
    "print(set3)"
   ]
  },
  {
   "cell_type": "code",
   "execution_count": null,
   "id": "0bf84c29-ec5d-437f-bdde-525358ecfd11",
   "metadata": {},
   "outputs": [],
   "source": []
  }
 ],
 "metadata": {
  "kernelspec": {
   "display_name": "Python 3 (ipykernel)",
   "language": "python",
   "name": "python3"
  },
  "language_info": {
   "codemirror_mode": {
    "name": "ipython",
    "version": 3
   },
   "file_extension": ".py",
   "mimetype": "text/x-python",
   "name": "python",
   "nbconvert_exporter": "python",
   "pygments_lexer": "ipython3",
   "version": "3.12.7"
  }
 },
 "nbformat": 4,
 "nbformat_minor": 5
}
